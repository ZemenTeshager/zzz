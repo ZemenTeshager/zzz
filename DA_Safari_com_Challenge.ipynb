{
 "cells": [
  {
   "cell_type": "code",
   "execution_count": 105,
   "id": "7fcaa8e7",
   "metadata": {},
   "outputs": [
    {
     "name": "stdout",
     "output_type": "stream",
     "text": [
      "Defaulting to user installation because normal site-packages is not writeable\n",
      "Requirement already satisfied: mysql-connector-python in c:\\users\\user\\appdata\\roaming\\python\\python310\\site-packages (8.0.33)\n",
      "Requirement already satisfied: protobuf<=3.20.3,>=3.11.0 in c:\\users\\user\\appdata\\roaming\\python\\python310\\site-packages (from mysql-connector-python) (3.20.3)\n"
     ]
    }
   ],
   "source": [
    "!pip install mysql-connector-python"
   ]
  },
  {
   "cell_type": "markdown",
   "id": "6ce74c32",
   "metadata": {},
   "source": [
    "<h4>Question 1</h4>"
   ]
  },
  {
   "cell_type": "code",
   "execution_count": 155,
   "id": "0bd83023",
   "metadata": {},
   "outputs": [],
   "source": [
    "#importing the libraries\n",
    "import pandas as pd\n"
   ]
  },
  {
   "cell_type": "code",
   "execution_count": 22,
   "id": "0b918c0c",
   "metadata": {},
   "outputs": [],
   "source": [
    "# Create a dictionary with the column names as keys and data as values\n",
    "data = {\n",
    "    'employee_name': [\"Abel\", \"Mesfin\", \"Tesfaw\",\"Iwunete\",\"Kefale\",\"Palit\",\"Kabede\",\"Ashebir\",\"Melkamu\",\"Bethelehem\",\"Gessese\",\"Melat\"],\n",
    "    'department': [\"Sales\", \"Sales\", \"Sales\",\"Finance\",\"Finance\",\"Finance\",\"Finance\",\"Marketing\",\"Marketing\",\"Sales\",\"Finance\",\"Sales\"],\n",
    "    'state': [\"Dire Dawa\", \"Dire Dawa\", \"Gondar\",\"Jijiga\",\"Gondar\",\"Dire Dawa\",\"Gondar\",\"Jijiga\",\"Gondar\",\"Adama\",\"Dire Dawa\",\"Adama\"],\n",
    "    'salary': [90000,86000,81000,90000,99000,83000,79000,80000,91000,4000,7000,78000],\n",
    "    'age': [34,56,30,49,40,36,53,65,50,26,43,39],\n",
    "    'bonus': [10000,20000,23000,23000,24000,19000,15000,18000,21000,14000,12000,31000],\n",
    "}\n",
    "\n",
    "# Create the DataFrame from the dictionary\n",
    "df = pd.DataFrame(data)\n"
   ]
  },
  {
   "cell_type": "code",
   "execution_count": 23,
   "id": "3b681daf",
   "metadata": {},
   "outputs": [
    {
     "data": {
      "text/html": [
       "<div>\n",
       "<style scoped>\n",
       "    .dataframe tbody tr th:only-of-type {\n",
       "        vertical-align: middle;\n",
       "    }\n",
       "\n",
       "    .dataframe tbody tr th {\n",
       "        vertical-align: top;\n",
       "    }\n",
       "\n",
       "    .dataframe thead th {\n",
       "        text-align: right;\n",
       "    }\n",
       "</style>\n",
       "<table border=\"1\" class=\"dataframe\">\n",
       "  <thead>\n",
       "    <tr style=\"text-align: right;\">\n",
       "      <th></th>\n",
       "      <th>employee_name</th>\n",
       "      <th>department</th>\n",
       "      <th>state</th>\n",
       "      <th>salary</th>\n",
       "      <th>age</th>\n",
       "      <th>bonus</th>\n",
       "    </tr>\n",
       "  </thead>\n",
       "  <tbody>\n",
       "    <tr>\n",
       "      <th>0</th>\n",
       "      <td>Abel</td>\n",
       "      <td>Sales</td>\n",
       "      <td>Dire Dawa</td>\n",
       "      <td>90000</td>\n",
       "      <td>34</td>\n",
       "      <td>10000</td>\n",
       "    </tr>\n",
       "    <tr>\n",
       "      <th>1</th>\n",
       "      <td>Mesfin</td>\n",
       "      <td>Sales</td>\n",
       "      <td>Dire Dawa</td>\n",
       "      <td>86000</td>\n",
       "      <td>56</td>\n",
       "      <td>20000</td>\n",
       "    </tr>\n",
       "    <tr>\n",
       "      <th>2</th>\n",
       "      <td>Tesfaw</td>\n",
       "      <td>Sales</td>\n",
       "      <td>Gondar</td>\n",
       "      <td>81000</td>\n",
       "      <td>30</td>\n",
       "      <td>23000</td>\n",
       "    </tr>\n",
       "    <tr>\n",
       "      <th>3</th>\n",
       "      <td>Iwunete</td>\n",
       "      <td>Finance</td>\n",
       "      <td>Jijiga</td>\n",
       "      <td>90000</td>\n",
       "      <td>49</td>\n",
       "      <td>23000</td>\n",
       "    </tr>\n",
       "    <tr>\n",
       "      <th>4</th>\n",
       "      <td>Kefale</td>\n",
       "      <td>Finance</td>\n",
       "      <td>Gondar</td>\n",
       "      <td>99000</td>\n",
       "      <td>40</td>\n",
       "      <td>24000</td>\n",
       "    </tr>\n",
       "  </tbody>\n",
       "</table>\n",
       "</div>"
      ],
      "text/plain": [
       "  employee_name department      state  salary  age  bonus\n",
       "0          Abel      Sales  Dire Dawa   90000   34  10000\n",
       "1        Mesfin      Sales  Dire Dawa   86000   56  20000\n",
       "2        Tesfaw      Sales     Gondar   81000   30  23000\n",
       "3       Iwunete    Finance     Jijiga   90000   49  23000\n",
       "4        Kefale    Finance     Gondar   99000   40  24000"
      ]
     },
     "execution_count": 23,
     "metadata": {},
     "output_type": "execute_result"
    }
   ],
   "source": [
    "#check the dataframe\n",
    "df.head(5)"
   ]
  },
  {
   "cell_type": "code",
   "execution_count": 24,
   "id": "747fba73",
   "metadata": {},
   "outputs": [
    {
     "data": {
      "text/plain": [
       "employee_name    object\n",
       "department       object\n",
       "state            object\n",
       "salary            int64\n",
       "age               int64\n",
       "bonus             int64\n",
       "dtype: object"
      ]
     },
     "execution_count": 24,
     "metadata": {},
     "output_type": "execute_result"
    }
   ],
   "source": [
    "#Check the data types\n",
    "df.dtypes"
   ]
  },
  {
   "cell_type": "markdown",
   "id": "fb9ae95a",
   "metadata": {},
   "source": [
    "<p>Answer: Displaying as a dictionary</p>"
   ]
  },
  {
   "cell_type": "code",
   "execution_count": 25,
   "id": "dbc1d269",
   "metadata": {},
   "outputs": [
    {
     "name": "stdout",
     "output_type": "stream",
     "text": [
      "{'employee_name': ['Abel', 'Mesfin', 'Tesfaw', 'Iwunete', 'Kefale', 'Palit', 'Kabede', 'Ashebir', 'Melkamu', 'Bethelehem', 'Gessese', 'Melat'], 'department': ['Sales', 'Sales', 'Sales', 'Finance', 'Finance', 'Finance', 'Finance', 'Marketing', 'Marketing', 'Sales', 'Finance', 'Sales'], 'state': ['Dire Dawa', 'Dire Dawa', 'Gondar', 'Jijiga', 'Gondar', 'Dire Dawa', 'Gondar', 'Jijiga', 'Gondar', 'Adama', 'Dire Dawa', 'Adama'], 'salary': [90000, 86000, 81000, 90000, 99000, 83000, 79000, 80000, 91000, 4000, 7000, 78000], 'age': [34, 56, 30, 49, 40, 36, 53, 65, 50, 26, 43, 39], 'bonus': [10000, 20000, 23000, 23000, 24000, 19000, 15000, 18000, 21000, 14000, 12000, 31000]}\n"
     ]
    }
   ],
   "source": [
    "print(data)"
   ]
  },
  {
   "cell_type": "markdown",
   "id": "172d9883",
   "metadata": {},
   "source": [
    "<h4>Question 2</h4>"
   ]
  },
  {
   "cell_type": "markdown",
   "id": "541a2851",
   "metadata": {},
   "source": [
    "<p>A. Unique departments...</p>"
   ]
  },
  {
   "cell_type": "code",
   "execution_count": 28,
   "id": "1579426e",
   "metadata": {},
   "outputs": [
    {
     "name": "stdout",
     "output_type": "stream",
     "text": [
      "unique departments ['Sales' 'Finance' 'Marketing']\n"
     ]
    }
   ],
   "source": [
    "#function for unique departments\n",
    "\n",
    "def get_unique_department(df, column_name):\n",
    "    unique_department = df[column_name].unique()\n",
    "    return unique_department\n",
    "\n",
    "unique_deparments= get_unique_department(df, 'department')\n",
    "print(f\"unique departments {unique_deparments}\")\n"
   ]
  },
  {
   "cell_type": "code",
   "execution_count": 29,
   "id": "d09f979a",
   "metadata": {},
   "outputs": [
    {
     "name": "stdout",
     "output_type": "stream",
     "text": [
      "Sales department exists 5 times\n"
     ]
    }
   ],
   "source": [
    "#count sales department\n",
    "number_of_sales_department = df[df['department'] == 'Sales']['department'].count()\n",
    "print(f\"Sales department exists {number_of_sales_department} times\")\n"
   ]
  },
  {
   "cell_type": "markdown",
   "id": "ed0a720c",
   "metadata": {},
   "source": [
    "<p>B. Aggregation per state </p>"
   ]
  },
  {
   "cell_type": "code",
   "execution_count": 73,
   "id": "f0a3b05d",
   "metadata": {},
   "outputs": [
    {
     "name": "stderr",
     "output_type": "stream",
     "text": [
      "C:\\Users\\User\\AppData\\Local\\Temp\\ipykernel_5396\\818824818.py:2: FutureWarning: The default value of numeric_only in DataFrameGroupBy.sum is deprecated. In a future version, numeric_only will default to False. Either specify numeric_only or select only columns which should be valid for the function.\n",
      "  aggregated_df = df.groupby(state).agg(aggregation).reset_index()\n"
     ]
    },
    {
     "data": {
      "text/html": [
       "<div>\n",
       "<style scoped>\n",
       "    .dataframe tbody tr th:only-of-type {\n",
       "        vertical-align: middle;\n",
       "    }\n",
       "\n",
       "    .dataframe tbody tr th {\n",
       "        vertical-align: top;\n",
       "    }\n",
       "\n",
       "    .dataframe thead th {\n",
       "        text-align: right;\n",
       "    }\n",
       "</style>\n",
       "<table border=\"1\" class=\"dataframe\">\n",
       "  <thead>\n",
       "    <tr style=\"text-align: right;\">\n",
       "      <th></th>\n",
       "      <th>state</th>\n",
       "      <th>salary</th>\n",
       "      <th>age</th>\n",
       "      <th>bonus</th>\n",
       "    </tr>\n",
       "  </thead>\n",
       "  <tbody>\n",
       "    <tr>\n",
       "      <th>0</th>\n",
       "      <td>Adama</td>\n",
       "      <td>82000</td>\n",
       "      <td>65</td>\n",
       "      <td>45000</td>\n",
       "    </tr>\n",
       "    <tr>\n",
       "      <th>1</th>\n",
       "      <td>Dire Dawa</td>\n",
       "      <td>266000</td>\n",
       "      <td>169</td>\n",
       "      <td>61000</td>\n",
       "    </tr>\n",
       "    <tr>\n",
       "      <th>2</th>\n",
       "      <td>Gondar</td>\n",
       "      <td>350000</td>\n",
       "      <td>173</td>\n",
       "      <td>83000</td>\n",
       "    </tr>\n",
       "    <tr>\n",
       "      <th>3</th>\n",
       "      <td>Jijiga</td>\n",
       "      <td>170000</td>\n",
       "      <td>114</td>\n",
       "      <td>41000</td>\n",
       "    </tr>\n",
       "  </tbody>\n",
       "</table>\n",
       "</div>"
      ],
      "text/plain": [
       "       state  salary  age  bonus\n",
       "0      Adama   82000   65  45000\n",
       "1  Dire Dawa  266000  169  61000\n",
       "2     Gondar  350000  173  83000\n",
       "3     Jijiga  170000  114  41000"
      ]
     },
     "execution_count": 73,
     "metadata": {},
     "output_type": "execute_result"
    }
   ],
   "source": [
    "def aggregate_per_state(df, state, aggregation='sum'):\n",
    "    aggregated_df = df.groupby(state).agg(aggregation).reset_index()\n",
    "    return aggregated_df\n",
    "\n",
    "aggregated_data = aggregate_per_state(df, \"state\", aggregation='sum')\n",
    "\n",
    "aggregated_data\n"
   ]
  },
  {
   "cell_type": "code",
   "execution_count": 74,
   "id": "271c6751",
   "metadata": {},
   "outputs": [
    {
     "data": {
      "text/plain": [
       "Index(['state', 'salary', 'age', 'bonus'], dtype='object')"
      ]
     },
     "execution_count": 74,
     "metadata": {},
     "output_type": "execute_result"
    }
   ],
   "source": [
    "aggregated_data.columns"
   ]
  },
  {
   "cell_type": "code",
   "execution_count": 56,
   "id": "de8a73d6",
   "metadata": {},
   "outputs": [],
   "source": [
    "# aggregated_data.dtypes"
   ]
  },
  {
   "cell_type": "markdown",
   "id": "f6c1d7b6",
   "metadata": {},
   "source": [
    "<p>i. The average salary in dre dewa</p>"
   ]
  },
  {
   "cell_type": "code",
   "execution_count": 63,
   "id": "f6b5dad5",
   "metadata": {},
   "outputs": [
    {
     "name": "stdout",
     "output_type": "stream",
     "text": [
      "Dere dewa average salary= 266000.0\n"
     ]
    }
   ],
   "source": [
    "# Average salary in Dire Dawa\n",
    "dere_dewa_average_salary = aggregated_data.loc['Dire Dawa', 'salary'].mean()\n",
    "\n",
    "print(f\"Dere dewa average salary= {dere_dewa_average_salary}\")"
   ]
  },
  {
   "cell_type": "markdown",
   "id": "9ad6858e",
   "metadata": {},
   "source": [
    "<p>ii. Total bonus in jiiga</p>"
   ]
  },
  {
   "cell_type": "code",
   "execution_count": 46,
   "id": "d2621e59",
   "metadata": {},
   "outputs": [
    {
     "name": "stdout",
     "output_type": "stream",
     "text": [
      "The total bonus in Jijiga state= 41000\n"
     ]
    }
   ],
   "source": [
    "jijiga_total_bonus=aggregated_data.loc['Jijiga', 'bonus'].sum()\n",
    "\n",
    "print(f\"The total bonus in Jijiga state= {jijiga_total_bonus}\")\n"
   ]
  },
  {
   "cell_type": "markdown",
   "id": "2ea77268",
   "metadata": {},
   "source": [
    "<p>iii. Minimum salary n Gondar</p>"
   ]
  },
  {
   "cell_type": "code",
   "execution_count": 47,
   "id": "7f9bc592",
   "metadata": {},
   "outputs": [
    {
     "name": "stdout",
     "output_type": "stream",
     "text": [
      "the minimum salary in Gondar state= 350000\n"
     ]
    }
   ],
   "source": [
    "gondar_minimum_salary=aggregated_data.loc['Gondar', 'salary'].min()\n",
    "\n",
    "print(f\"the minimum salary in Gondar state= {gondar_minimum_salary}\")"
   ]
  },
  {
   "cell_type": "markdown",
   "id": "33955ca2",
   "metadata": {},
   "source": [
    "<p>iv. The state with maximum age of employee</p>"
   ]
  },
  {
   "cell_type": "code",
   "execution_count": 87,
   "id": "8a1d4d08",
   "metadata": {},
   "outputs": [
    {
     "name": "stdout",
     "output_type": "stream",
     "text": [
      "The state 7    Jijiga\n",
      "Name: state, dtype: object\n"
     ]
    }
   ],
   "source": [
    "maximum_age=df['age'].max()\n",
    "state_with_maximum_age_group=df[df['age'] ==maximum_age]\n",
    "print(f\"The state {state_with_maximum_age_group['state']}\")"
   ]
  },
  {
   "cell_type": "markdown",
   "id": "6dfbb909",
   "metadata": {},
   "source": [
    "<p>C. Employees with age greater than 40</p>"
   ]
  },
  {
   "cell_type": "code",
   "execution_count": 94,
   "id": "b8d6d310",
   "metadata": {},
   "outputs": [
    {
     "data": {
      "text/html": [
       "<div>\n",
       "<style scoped>\n",
       "    .dataframe tbody tr th:only-of-type {\n",
       "        vertical-align: middle;\n",
       "    }\n",
       "\n",
       "    .dataframe tbody tr th {\n",
       "        vertical-align: top;\n",
       "    }\n",
       "\n",
       "    .dataframe thead th {\n",
       "        text-align: right;\n",
       "    }\n",
       "</style>\n",
       "<table border=\"1\" class=\"dataframe\">\n",
       "  <thead>\n",
       "    <tr style=\"text-align: right;\">\n",
       "      <th></th>\n",
       "      <th>employee_name</th>\n",
       "      <th>department</th>\n",
       "      <th>state</th>\n",
       "      <th>salary</th>\n",
       "      <th>age</th>\n",
       "      <th>bonus</th>\n",
       "    </tr>\n",
       "  </thead>\n",
       "  <tbody>\n",
       "    <tr>\n",
       "      <th>7</th>\n",
       "      <td>Ashebir</td>\n",
       "      <td>Marketing</td>\n",
       "      <td>Jijiga</td>\n",
       "      <td>80000</td>\n",
       "      <td>65</td>\n",
       "      <td>18000</td>\n",
       "    </tr>\n",
       "    <tr>\n",
       "      <th>1</th>\n",
       "      <td>Mesfin</td>\n",
       "      <td>Sales</td>\n",
       "      <td>Dire Dawa</td>\n",
       "      <td>86000</td>\n",
       "      <td>56</td>\n",
       "      <td>20000</td>\n",
       "    </tr>\n",
       "    <tr>\n",
       "      <th>6</th>\n",
       "      <td>Kabede</td>\n",
       "      <td>Finance</td>\n",
       "      <td>Gondar</td>\n",
       "      <td>79000</td>\n",
       "      <td>53</td>\n",
       "      <td>15000</td>\n",
       "    </tr>\n",
       "  </tbody>\n",
       "</table>\n",
       "</div>"
      ],
      "text/plain": [
       "  employee_name department      state  salary  age  bonus\n",
       "7       Ashebir  Marketing     Jijiga   80000   65  18000\n",
       "1        Mesfin      Sales  Dire Dawa   86000   56  20000\n",
       "6        Kabede    Finance     Gondar   79000   53  15000"
      ]
     },
     "execution_count": 94,
     "metadata": {},
     "output_type": "execute_result"
    }
   ],
   "source": [
    "#states_with age greater than or equal to 40\n",
    "top_3_states_with_maximum_age=df[df['age'] >=40]\n",
    "\n",
    "\n",
    "top_3_states_with_maximum_age=top_3_states_with_maximum_age.sort_values('age',ascending=False)\n",
    "top_3_states_with_maximum_age.head(3)"
   ]
  },
  {
   "cell_type": "markdown",
   "id": "46077665",
   "metadata": {},
   "source": [
    "<p>D.  Creating dataframe summary</p>"
   ]
  },
  {
   "cell_type": "code",
   "execution_count": 117,
   "id": "1baf4118",
   "metadata": {},
   "outputs": [
    {
     "data": {
      "text/html": [
       "<div>\n",
       "<style scoped>\n",
       "    .dataframe tbody tr th:only-of-type {\n",
       "        vertical-align: middle;\n",
       "    }\n",
       "\n",
       "    .dataframe tbody tr th {\n",
       "        vertical-align: top;\n",
       "    }\n",
       "\n",
       "    .dataframe thead th {\n",
       "        text-align: right;\n",
       "    }\n",
       "</style>\n",
       "<table border=\"1\" class=\"dataframe\">\n",
       "  <thead>\n",
       "    <tr style=\"text-align: right;\">\n",
       "      <th></th>\n",
       "      <th>department</th>\n",
       "      <th>state</th>\n",
       "      <th>Total Salary</th>\n",
       "      <th>Total Employees</th>\n",
       "      <th>Average Bonus</th>\n",
       "    </tr>\n",
       "  </thead>\n",
       "  <tbody>\n",
       "    <tr>\n",
       "      <th>0</th>\n",
       "      <td>Finance</td>\n",
       "      <td>Dire Dawa</td>\n",
       "      <td>90000</td>\n",
       "      <td>2</td>\n",
       "      <td>15500.0</td>\n",
       "    </tr>\n",
       "    <tr>\n",
       "      <th>1</th>\n",
       "      <td>Finance</td>\n",
       "      <td>Gondar</td>\n",
       "      <td>178000</td>\n",
       "      <td>2</td>\n",
       "      <td>19500.0</td>\n",
       "    </tr>\n",
       "    <tr>\n",
       "      <th>2</th>\n",
       "      <td>Finance</td>\n",
       "      <td>Jijiga</td>\n",
       "      <td>90000</td>\n",
       "      <td>1</td>\n",
       "      <td>23000.0</td>\n",
       "    </tr>\n",
       "    <tr>\n",
       "      <th>3</th>\n",
       "      <td>Marketing</td>\n",
       "      <td>Gondar</td>\n",
       "      <td>91000</td>\n",
       "      <td>1</td>\n",
       "      <td>21000.0</td>\n",
       "    </tr>\n",
       "    <tr>\n",
       "      <th>4</th>\n",
       "      <td>Marketing</td>\n",
       "      <td>Jijiga</td>\n",
       "      <td>80000</td>\n",
       "      <td>1</td>\n",
       "      <td>18000.0</td>\n",
       "    </tr>\n",
       "    <tr>\n",
       "      <th>5</th>\n",
       "      <td>Sales</td>\n",
       "      <td>Adama</td>\n",
       "      <td>82000</td>\n",
       "      <td>2</td>\n",
       "      <td>22500.0</td>\n",
       "    </tr>\n",
       "    <tr>\n",
       "      <th>6</th>\n",
       "      <td>Sales</td>\n",
       "      <td>Dire Dawa</td>\n",
       "      <td>176000</td>\n",
       "      <td>2</td>\n",
       "      <td>15000.0</td>\n",
       "    </tr>\n",
       "    <tr>\n",
       "      <th>7</th>\n",
       "      <td>Sales</td>\n",
       "      <td>Gondar</td>\n",
       "      <td>81000</td>\n",
       "      <td>1</td>\n",
       "      <td>23000.0</td>\n",
       "    </tr>\n",
       "  </tbody>\n",
       "</table>\n",
       "</div>"
      ],
      "text/plain": [
       "  department      state  Total Salary  Total Employees  Average Bonus\n",
       "0    Finance  Dire Dawa         90000                2        15500.0\n",
       "1    Finance     Gondar        178000                2        19500.0\n",
       "2    Finance     Jijiga         90000                1        23000.0\n",
       "3  Marketing     Gondar         91000                1        21000.0\n",
       "4  Marketing     Jijiga         80000                1        18000.0\n",
       "5      Sales      Adama         82000                2        22500.0\n",
       "6      Sales  Dire Dawa        176000                2        15000.0\n",
       "7      Sales     Gondar         81000                1        23000.0"
      ]
     },
     "execution_count": 117,
     "metadata": {},
     "output_type": "execute_result"
    }
   ],
   "source": [
    "grouped_df = df.groupby(['department', 'state'])\n",
    "\n",
    "# Calculating the total salary, total employees, and average bonus per department and state\n",
    "summary_df = grouped_df.agg({'salary': 'sum', 'department': 'count', 'bonus': 'mean'})\n",
    "summary_df = summary_df.rename(columns={'salary': 'Total Salary',\n",
    "                                        'department': 'Total Employees',\n",
    "                                        'bonus': 'Average Bonus'})\n",
    "summary_df = summary_df.reset_index()\n",
    "\n",
    "summary_df"
   ]
  },
  {
   "cell_type": "markdown",
   "id": "9ca3d210",
   "metadata": {},
   "source": [
    "<h4>Question 3</h4>"
   ]
  },
  {
   "cell_type": "markdown",
   "id": "0f9017e0",
   "metadata": {},
   "source": [
    "<p>A. Creating database</p>"
   ]
  },
  {
   "cell_type": "code",
   "execution_count": null,
   "id": "e6668a7a",
   "metadata": {},
   "outputs": [],
   "source": [
    "\n",
    "# Create a MySQL database connection\n",
    "connection = pymysql.connect(host=host, user=user, password=password, database=database)\n",
    "\n",
    "# Create a cursor object to execute SQL queries\n",
    "cursor = connection.cursor()\n",
    "\n"
   ]
  },
  {
   "cell_type": "code",
   "execution_count": null,
   "id": "03d4105a",
   "metadata": {},
   "outputs": [],
   "source": [
    "host=\"\"\n",
    "user=\"\"\n",
    "password=\"\"\n",
    "database=\"\"\n",
    "# Create a MySQL database connection\n",
    "connection = mysql.connect(host=host, user=user, password=password, database=database)\n",
    "\n",
    "cursor = connection.cursor()\n",
    "\n",
    "create_table_query = '''\n",
    "CREATE TABLE IF NOT EXISTS summary_table (\n",
    "    state VARCHAR(255),\n",
    "    department VARCHAR(255),\n",
    "    total_salary FLOAT,\n",
    "    total_employees INT,\n",
    "    average_bonus FLOAT\n",
    ");\n",
    "'''\n",
    "\n",
    "cursor.execute(create_table_query)\n",
    "\n",
    "# Insert the data frame into the table\n",
    "summary_df.to_sql(name='summary_table')\n",
    "cursor.close()\n",
    "connection.close()\n"
   ]
  },
  {
   "cell_type": "code",
   "execution_count": null,
   "id": "8d1912aa",
   "metadata": {},
   "outputs": [],
   "source": []
  },
  {
   "cell_type": "code",
   "execution_count": null,
   "id": "c6e50919",
   "metadata": {},
   "outputs": [],
   "source": []
  },
  {
   "cell_type": "markdown",
   "id": "8d59fb04",
   "metadata": {},
   "source": [
    "<p>B. Visualization</p>"
   ]
  },
  {
   "cell_type": "code",
   "execution_count": 109,
   "id": "1f4d4d42",
   "metadata": {},
   "outputs": [],
   "source": [
    "#importing the library\n",
    "import matplotlib.pyplot as plt"
   ]
  },
  {
   "cell_type": "code",
   "execution_count": 141,
   "id": "21a09e1b",
   "metadata": {},
   "outputs": [
    {
     "data": {
      "text/html": [
       "<div>\n",
       "<style scoped>\n",
       "    .dataframe tbody tr th:only-of-type {\n",
       "        vertical-align: middle;\n",
       "    }\n",
       "\n",
       "    .dataframe tbody tr th {\n",
       "        vertical-align: top;\n",
       "    }\n",
       "\n",
       "    .dataframe thead th {\n",
       "        text-align: right;\n",
       "    }\n",
       "</style>\n",
       "<table border=\"1\" class=\"dataframe\">\n",
       "  <thead>\n",
       "    <tr style=\"text-align: right;\">\n",
       "      <th></th>\n",
       "      <th>state</th>\n",
       "      <th>Total Salary</th>\n",
       "      <th>Average Bonus</th>\n",
       "    </tr>\n",
       "  </thead>\n",
       "  <tbody>\n",
       "    <tr>\n",
       "      <th>0</th>\n",
       "      <td>Adama</td>\n",
       "      <td>82000</td>\n",
       "      <td>22500.0</td>\n",
       "    </tr>\n",
       "    <tr>\n",
       "      <th>1</th>\n",
       "      <td>Dire Dawa</td>\n",
       "      <td>266000</td>\n",
       "      <td>30500.0</td>\n",
       "    </tr>\n",
       "    <tr>\n",
       "      <th>2</th>\n",
       "      <td>Gondar</td>\n",
       "      <td>350000</td>\n",
       "      <td>63500.0</td>\n",
       "    </tr>\n",
       "    <tr>\n",
       "      <th>3</th>\n",
       "      <td>Jijiga</td>\n",
       "      <td>170000</td>\n",
       "      <td>41000.0</td>\n",
       "    </tr>\n",
       "  </tbody>\n",
       "</table>\n",
       "</div>"
      ],
      "text/plain": [
       "       state  Total Salary  Average Bonus\n",
       "0      Adama         82000        22500.0\n",
       "1  Dire Dawa        266000        30500.0\n",
       "2     Gondar        350000        63500.0\n",
       "3     Jijiga        170000        41000.0"
      ]
     },
     "execution_count": 141,
     "metadata": {},
     "output_type": "execute_result"
    }
   ],
   "source": [
    "total_salary_and_average_bonus=summary_df.groupby(\"state\").agg({'Total Salary': 'sum', 'Average Bonus': 'sum'}.reset_index()\n",
    "\n",
    "total_salary_and_average_bonus"
   ]
  },
  {
   "cell_type": "code",
   "execution_count": 152,
   "id": "7e88b4b6",
   "metadata": {},
   "outputs": [
    {
     "data": {
      "text/plain": [
       "state             object\n",
       "Total Salary       int64\n",
       "Average Bonus    float64\n",
       "dtype: object"
      ]
     },
     "execution_count": 152,
     "metadata": {},
     "output_type": "execute_result"
    }
   ],
   "source": [
    "total_salary_and_average_bonus.dtypes"
   ]
  },
  {
   "cell_type": "code",
   "execution_count": 154,
   "id": "97b03745",
   "metadata": {},
   "outputs": [
    {
     "data": {
      "text/html": [
       "<div>\n",
       "<style scoped>\n",
       "    .dataframe tbody tr th:only-of-type {\n",
       "        vertical-align: middle;\n",
       "    }\n",
       "\n",
       "    .dataframe tbody tr th {\n",
       "        vertical-align: top;\n",
       "    }\n",
       "\n",
       "    .dataframe thead th {\n",
       "        text-align: right;\n",
       "    }\n",
       "</style>\n",
       "<table border=\"1\" class=\"dataframe\">\n",
       "  <thead>\n",
       "    <tr style=\"text-align: right;\">\n",
       "      <th></th>\n",
       "      <th>state</th>\n",
       "      <th>Total_Salary</th>\n",
       "      <th>Average_Bonus</th>\n",
       "    </tr>\n",
       "  </thead>\n",
       "  <tbody>\n",
       "    <tr>\n",
       "      <th>0</th>\n",
       "      <td>Adama</td>\n",
       "      <td>82000</td>\n",
       "      <td>22500.0</td>\n",
       "    </tr>\n",
       "    <tr>\n",
       "      <th>1</th>\n",
       "      <td>Dire Dawa</td>\n",
       "      <td>266000</td>\n",
       "      <td>30500.0</td>\n",
       "    </tr>\n",
       "    <tr>\n",
       "      <th>2</th>\n",
       "      <td>Gondar</td>\n",
       "      <td>350000</td>\n",
       "      <td>63500.0</td>\n",
       "    </tr>\n",
       "    <tr>\n",
       "      <th>3</th>\n",
       "      <td>Jijiga</td>\n",
       "      <td>170000</td>\n",
       "      <td>41000.0</td>\n",
       "    </tr>\n",
       "  </tbody>\n",
       "</table>\n",
       "</div>"
      ],
      "text/plain": [
       "       state  Total_Salary  Average_Bonus\n",
       "0      Adama         82000        22500.0\n",
       "1  Dire Dawa        266000        30500.0\n",
       "2     Gondar        350000        63500.0\n",
       "3     Jijiga        170000        41000.0"
      ]
     },
     "execution_count": 154,
     "metadata": {},
     "output_type": "execute_result"
    }
   ],
   "source": [
    "tot_salary = total_salary_and_average_bonus.rename(columns={'Total Salary':'Total_Salary','Average Bonus':'Average_Bonus'})\n",
    "tot_salary"
   ]
  },
  {
   "cell_type": "code",
   "execution_count": null,
   "id": "a39c8e29",
   "metadata": {},
   "outputs": [],
   "source": [
    "ax = "
   ]
  },
  {
   "cell_type": "code",
   "execution_count": 153,
   "id": "35c837a6",
   "metadata": {},
   "outputs": [],
   "source": [
    "# plot = plt.subplot()\n",
    "# fig, ax=plot\n",
    "# ax.bar(total_salary_and_average_bonus['state'],total_salary_and_average_bonus[\"Total Salary\"])\n",
    "# ax.set_title('total salary and bonus grouped by state')\n",
    "# ax.set_xlable('states')\n",
    "# ax.set_ylable('Total salary')\n",
    "\n",
    "# plt.show()"
   ]
  },
  {
   "cell_type": "code",
   "execution_count": null,
   "id": "53604e00",
   "metadata": {},
   "outputs": [],
   "source": []
  },
  {
   "cell_type": "code",
   "execution_count": 150,
   "id": "c13e72a4",
   "metadata": {},
   "outputs": [
    {
     "ename": "KeyError",
     "evalue": "'Total salary'",
     "output_type": "error",
     "traceback": [
      "\u001b[1;31m---------------------------------------------------------------------------\u001b[0m",
      "\u001b[1;31mKeyError\u001b[0m                                  Traceback (most recent call last)",
      "File \u001b[1;32mC:\\ProgramData\\anaconda3\\lib\\site-packages\\pandas\\core\\indexes\\base.py:3802\u001b[0m, in \u001b[0;36mIndex.get_loc\u001b[1;34m(self, key, method, tolerance)\u001b[0m\n\u001b[0;32m   3801\u001b[0m \u001b[38;5;28;01mtry\u001b[39;00m:\n\u001b[1;32m-> 3802\u001b[0m     \u001b[38;5;28;01mreturn\u001b[39;00m \u001b[38;5;28;43mself\u001b[39;49m\u001b[38;5;241;43m.\u001b[39;49m\u001b[43m_engine\u001b[49m\u001b[38;5;241;43m.\u001b[39;49m\u001b[43mget_loc\u001b[49m\u001b[43m(\u001b[49m\u001b[43mcasted_key\u001b[49m\u001b[43m)\u001b[49m\n\u001b[0;32m   3803\u001b[0m \u001b[38;5;28;01mexcept\u001b[39;00m \u001b[38;5;167;01mKeyError\u001b[39;00m \u001b[38;5;28;01mas\u001b[39;00m err:\n",
      "File \u001b[1;32mC:\\ProgramData\\anaconda3\\lib\\site-packages\\pandas\\_libs\\index.pyx:138\u001b[0m, in \u001b[0;36mpandas._libs.index.IndexEngine.get_loc\u001b[1;34m()\u001b[0m\n",
      "File \u001b[1;32mC:\\ProgramData\\anaconda3\\lib\\site-packages\\pandas\\_libs\\index.pyx:165\u001b[0m, in \u001b[0;36mpandas._libs.index.IndexEngine.get_loc\u001b[1;34m()\u001b[0m\n",
      "File \u001b[1;32mpandas\\_libs\\hashtable_class_helper.pxi:5745\u001b[0m, in \u001b[0;36mpandas._libs.hashtable.PyObjectHashTable.get_item\u001b[1;34m()\u001b[0m\n",
      "File \u001b[1;32mpandas\\_libs\\hashtable_class_helper.pxi:5753\u001b[0m, in \u001b[0;36mpandas._libs.hashtable.PyObjectHashTable.get_item\u001b[1;34m()\u001b[0m\n",
      "\u001b[1;31mKeyError\u001b[0m: 'Total salary'",
      "\nThe above exception was the direct cause of the following exception:\n",
      "\u001b[1;31mKeyError\u001b[0m                                  Traceback (most recent call last)",
      "Cell \u001b[1;32mIn[150], line 3\u001b[0m\n\u001b[0;32m      1\u001b[0m employee_group_by_state\u001b[38;5;241m=\u001b[39msummary_df\u001b[38;5;241m.\u001b[39mgroupby(\u001b[38;5;124m\"\u001b[39m\u001b[38;5;124mstate\u001b[39m\u001b[38;5;124m\"\u001b[39m)\u001b[38;5;241m.\u001b[39magg({\u001b[38;5;124m'\u001b[39m\u001b[38;5;124mTotal Employees\u001b[39m\u001b[38;5;124m'\u001b[39m: \u001b[38;5;124m'\u001b[39m\u001b[38;5;124msum\u001b[39m\u001b[38;5;124m'\u001b[39m})\u001b[38;5;241m.\u001b[39mreset_index()\n\u001b[1;32m----> 3\u001b[0m total_salary \u001b[38;5;241m=\u001b[39m \u001b[43memployee_group_by_state\u001b[49m\u001b[43m[\u001b[49m\u001b[38;5;124;43m'\u001b[39;49m\u001b[38;5;124;43mTotal salary\u001b[39;49m\u001b[38;5;124;43m'\u001b[39;49m\u001b[43m]\u001b[49m\n\u001b[0;32m      4\u001b[0m average_employees \u001b[38;5;241m=\u001b[39m employee_group_by_state[\u001b[38;5;124m'\u001b[39m\u001b[38;5;124mTotal Employees\u001b[39m\u001b[38;5;124m'\u001b[39m]\n\u001b[0;32m      5\u001b[0m departments \u001b[38;5;241m=\u001b[39m employee_group_by_state[\u001b[38;5;124m'\u001b[39m\u001b[38;5;124mdepartment\u001b[39m\u001b[38;5;124m'\u001b[39m]\n",
      "File \u001b[1;32mC:\\ProgramData\\anaconda3\\lib\\site-packages\\pandas\\core\\frame.py:3807\u001b[0m, in \u001b[0;36mDataFrame.__getitem__\u001b[1;34m(self, key)\u001b[0m\n\u001b[0;32m   3805\u001b[0m \u001b[38;5;28;01mif\u001b[39;00m \u001b[38;5;28mself\u001b[39m\u001b[38;5;241m.\u001b[39mcolumns\u001b[38;5;241m.\u001b[39mnlevels \u001b[38;5;241m>\u001b[39m \u001b[38;5;241m1\u001b[39m:\n\u001b[0;32m   3806\u001b[0m     \u001b[38;5;28;01mreturn\u001b[39;00m \u001b[38;5;28mself\u001b[39m\u001b[38;5;241m.\u001b[39m_getitem_multilevel(key)\n\u001b[1;32m-> 3807\u001b[0m indexer \u001b[38;5;241m=\u001b[39m \u001b[38;5;28;43mself\u001b[39;49m\u001b[38;5;241;43m.\u001b[39;49m\u001b[43mcolumns\u001b[49m\u001b[38;5;241;43m.\u001b[39;49m\u001b[43mget_loc\u001b[49m\u001b[43m(\u001b[49m\u001b[43mkey\u001b[49m\u001b[43m)\u001b[49m\n\u001b[0;32m   3808\u001b[0m \u001b[38;5;28;01mif\u001b[39;00m is_integer(indexer):\n\u001b[0;32m   3809\u001b[0m     indexer \u001b[38;5;241m=\u001b[39m [indexer]\n",
      "File \u001b[1;32mC:\\ProgramData\\anaconda3\\lib\\site-packages\\pandas\\core\\indexes\\base.py:3804\u001b[0m, in \u001b[0;36mIndex.get_loc\u001b[1;34m(self, key, method, tolerance)\u001b[0m\n\u001b[0;32m   3802\u001b[0m     \u001b[38;5;28;01mreturn\u001b[39;00m \u001b[38;5;28mself\u001b[39m\u001b[38;5;241m.\u001b[39m_engine\u001b[38;5;241m.\u001b[39mget_loc(casted_key)\n\u001b[0;32m   3803\u001b[0m \u001b[38;5;28;01mexcept\u001b[39;00m \u001b[38;5;167;01mKeyError\u001b[39;00m \u001b[38;5;28;01mas\u001b[39;00m err:\n\u001b[1;32m-> 3804\u001b[0m     \u001b[38;5;28;01mraise\u001b[39;00m \u001b[38;5;167;01mKeyError\u001b[39;00m(key) \u001b[38;5;28;01mfrom\u001b[39;00m \u001b[38;5;21;01merr\u001b[39;00m\n\u001b[0;32m   3805\u001b[0m \u001b[38;5;28;01mexcept\u001b[39;00m \u001b[38;5;167;01mTypeError\u001b[39;00m:\n\u001b[0;32m   3806\u001b[0m     \u001b[38;5;66;03m# If we have a listlike key, _check_indexing_error will raise\u001b[39;00m\n\u001b[0;32m   3807\u001b[0m     \u001b[38;5;66;03m#  InvalidIndexError. Otherwise we fall through and re-raise\u001b[39;00m\n\u001b[0;32m   3808\u001b[0m     \u001b[38;5;66;03m#  the TypeError.\u001b[39;00m\n\u001b[0;32m   3809\u001b[0m     \u001b[38;5;28mself\u001b[39m\u001b[38;5;241m.\u001b[39m_check_indexing_error(key)\n",
      "\u001b[1;31mKeyError\u001b[0m: 'Total salary'"
     ]
    }
   ],
   "source": [
    "employee_group_by_state=summary_df.groupby(\"state\").agg({'Total Employees': 'sum'}).reset_index()\n",
    "\n",
    "total_salary = employee_group_by_state['Total salary']\n",
    "average_employees = employee_group_by_state['Total Employees']\n",
    "departments = employee_group_by_state['department']\n",
    "\n",
    "# Plotting the pie chart for total salary\n",
    "ax.pie(total_salary, labels=departments, autopct='%1.1f%%', startangle=90)\n",
    "ax.set_aspect('equal')\n",
    "ax.set_title('Distribution of Total Salary by Department')\n",
    "ax.show()"
   ]
  },
  {
   "cell_type": "code",
   "execution_count": null,
   "id": "c3182d3a",
   "metadata": {},
   "outputs": [],
   "source": []
  },
  {
   "cell_type": "code",
   "execution_count": null,
   "id": "0bb368f2",
   "metadata": {},
   "outputs": [],
   "source": []
  }
 ],
 "metadata": {
  "kernelspec": {
   "display_name": "Python 3 (ipykernel)",
   "language": "python",
   "name": "python3"
  },
  "language_info": {
   "codemirror_mode": {
    "name": "ipython",
    "version": 3
   },
   "file_extension": ".py",
   "mimetype": "text/x-python",
   "name": "python",
   "nbconvert_exporter": "python",
   "pygments_lexer": "ipython3",
   "version": "3.10.9"
  }
 },
 "nbformat": 4,
 "nbformat_minor": 5
}
